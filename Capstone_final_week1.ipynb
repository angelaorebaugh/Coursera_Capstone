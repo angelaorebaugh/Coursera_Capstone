{
 "cells": [
  {
   "cell_type": "markdown",
   "metadata": {},
   "source": [
    "# Capstone Project - Sustainable Transportation in Charlottesville: EV Charging Stations\n",
    "### The Battle of the Neighborhood Week 1\n",
    "### Applied Data Science Capstone by IBM/Coursera"
   ]
  },
  {
   "cell_type": "markdown",
   "metadata": {},
   "source": [
    "## Table of contents\n",
    "* [Introduction: Business Problem](#introduction)\n",
    "* [Data](#data)"
   ]
  },
  {
   "cell_type": "markdown",
   "metadata": {},
   "source": [
    "\n",
    "\n",
    "## Introduction: Business Problem <a name=\"introduction\"></a>"
   ]
  },
  {
   "cell_type": "markdown",
   "metadata": {},
   "source": [
    "Transportation emissions account for 29% of the greenhouse gas (GHG) emissions in the U.S., making it the largest contributor to Earth's warming atmosphere and climate change.  Traditional gasoline powered vehicles burn fossil fuels and release carbon dioxide, a powerful greenhouse gas, into the atmosphere [EPA, 2020]  In Virginia, nearly half of all GHGs come from the transportation sector. [EIA, 2019]  Switching from a gasoline powered vehicle to an electric vehicle could reduce GHG emissions by 73%. [DOE, 2020] Incentives for people to choose sustainable transportation methods are needed to help decrease fossil fuel use in the transportation sector.\n",
    "\n",
    "As more people switch to electric vehicles, they shop, dine, and visit areas that make it easy for them to charge their vehicle.  This project explores the various EV charging station locations in Charlottesville, Virginia to determine the ten most common venues near each station.  The project will group the EV stations into clusters using k-means clustering and visualize EV charging station locations in Charlottesville and their clusters.  \n",
    "\n",
    "This project is targeted to EV owner stakeholders who would like to charge their vehicle while dining, shopping, or visiting the local area near the charging station.  The resulting ten common venues near each station will help EV owners choose the best charging station to use for their needs.  This project helps an EV owner answer the question \"Which EV charging station should I use if I want to get pizza while my car charges?\".\n",
    "\n",
    "--- [EPA. _Carbon Pollution from Transportation_. Retrieved March 6, 2020.](https://www.epa.gov/transportation-air-pollution-and-climate-change/carbon-pollution-transportation)\n",
    "\n",
    "--- [EIA. _Energy-Related Carbon Dioxide Emissions by State, 2005-2016_. Retrieved March 6, 2020.](https://www.eia.gov/environment/emissions/state/analysis/pdf/stateanalysis.pdf)\n",
    "\n",
    "--- [DOE. _Emissions from Hybrid and Plug-In Electric Vehicles_. Retrieved March 6, 2020.](https://afdc.energy.gov/vehicles/electric_emissions.html)\n",
    "\n"
   ]
  },
  {
   "cell_type": "markdown",
   "metadata": {},
   "source": [
    "## Data <a name=\"data\"></a>"
   ]
  },
  {
   "attachments": {
    "image.png": {
     "image/png": "[encoded data removed]"
    }
   },
   "cell_type": "markdown",
   "metadata": {},
   "source": [
    "This project will use the following two data sources:\n",
    "\n",
    "* [Charlottesville Open Data - Green Infrastructure (Transportation) dataset](https://opendata.arcgis.com/datasets/4c9a19905e3b43bba02b9a540685b3e2_71.csv)\n",
    "* [Foursquare dataset](https://developer.foursquare.com/)\n",
    "\n",
    "Specifically the project will need the following data:\n",
    "1. Locations of EV charging stations in Charlottesville, VA expressed in latitude and longitude.  This data will be extracted from the CSV file on the Charlottesville Open Data portal located at https://opendata.arcgis.com/datasets/4c9a19905e3b43bba02b9a540685b3e2_71.csv.  An example of this type of data looks like the following:\n",
    "\n",
    "![image.png](attachment:image.png)\n",
    "\n",
    "\n",
    "2. Types of venues near each charging stations.  This data will be extracted using the Foursquare API.  The Foursquare RESTful API can be accessed at https://api.foursquare.com/v2.  An example of this type of data looks like the following:"
   ]
  },
  {
   "cell_type": "raw",
   "metadata": {},
   "source": [
    "'venue': {'id': '4b4429abf964a52037f225e3',\n",
    "       'name': \"Arturo's\",\n",
    "       'location': {'address': '5198 Broadway',\n",
    "        'crossStreet': 'at 225th St.',\n",
    "        'lat': 40.87441177110231,\n",
    "        'lng': -73.91027100981574,\n",
    "        'labeledLatLngs': [{'label': 'display',\n",
    "          'lat': 40.87441177110231,\n",
    "          'lng': -73.91027100981574}],\n",
    "        'distance': 240,\n",
    "        'postalCode': '10463',\n",
    "        'cc': 'US',\n",
    "        'city': 'New York',\n",
    "        'state': 'NY',\n",
    "        'country': 'United States',\n",
    "        'formattedAddress': ['5198 Broadway (at 225th St.)',\n",
    "         'New York, NY 10463',\n",
    "         'United States']},\n",
    "       'categories': [{'id': '4bf58dd8d48988d1ca941735',\n",
    "         'name': 'Pizza Place',\n",
    "         'pluralName': 'Pizza Places',\n",
    "         'shortName': 'Pizza',\n",
    "         'icon': {'prefix': 'https://ss3.4sqi.net/img/categories_v2/food/pizza_',\n",
    "          'suffix': '.png'},\n",
    "         'primary': True}],\n",
    "       'delivery': {'id': '72548',\n",
    "        'url': 'https://www.seamless.com/menu/arturos-pizza-5189-broadway-ave-new-york/72548?affiliate=1131&utm_source=foursquare-affiliate-network&utm_medium=affiliate&utm_campaign=1131&utm_content=72548',\n",
    "        'provider': {'name': 'seamless',\n",
    "         'icon': {'prefix': 'https://fastly.4sqi.net/img/general/cap/',\n",
    "          'sizes': [40, 50],\n",
    "          'name': '/delivery_provider_seamless_20180129.png'}}},\n",
    "       'photos': {'count': 0, 'groups': []}},\n",
    "      'referralId': 'e-0-4b4429abf964a52037f225e3-0'},\n",
    "     {'reasons': {'count': 0,\n",
    "       'items': [{'summary': 'This spot is popular',\n",
    "         'type': 'general',\n",
    "         'reasonName': 'globalInteractionReason'}]},"
   ]
  }
 ],
 "metadata": {
  "kernelspec": {
   "display_name": "Python",
   "language": "python",
   "name": "conda-env-python-py"
  },
  "language_info": {
   "codemirror_mode": {
    "name": "ipython",
    "version": 3
   },
   "file_extension": ".py",
   "mimetype": "text/x-python",
   "name": "python",
   "nbconvert_exporter": "python",
   "pygments_lexer": "ipython3",
   "version": "3.6.7"
  }
 },
 "nbformat": 4,
 "nbformat_minor": 4
}
